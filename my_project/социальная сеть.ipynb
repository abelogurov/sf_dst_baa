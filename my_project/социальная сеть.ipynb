{
 "cells": [
  {
   "cell_type": "markdown",
   "metadata": {},
   "source": [
    "### Про анализ социальных сетей и графовую аналитику есть несколько статей на сайте NTA, поэтому перейдем непосредственно к практической части.  При анализе файлов XML были найдены теги, под которыми хранятся данные мобильных контактов. В результате для извлечения необходимых номеров была написана, следующая функция, на языке python:"
   ]
  },
  {
   "cell_type": "code",
   "execution_count": null,
   "metadata": {},
   "outputs": [],
   "source": [
    "import networkx as nx\n",
    "import os\n",
    "import re\n",
    "import sys\n",
    "import xml.etree.ElementTree as etree\n",
    "\n",
    "\n",
    "def import_contacts(root):\n",
    "    # импортирует список контактов из XML (пустые значения отбрасываются)\n",
    "    contacts = []\n",
    "    tag = root.find(\"./MobileDevice \")\n",
    "\n",
    "    if tag is None:\n",
    "        return None\n",
    "\n",
    "    tag = tag.attrib\n",
    "\n",
    "    if tag.get('Name') == 'PHONEBOOK':\n",
    "        for phone in root.findall(\"./MobileDevice /Item/Field/[@Type='FLD_PB_NUMTYPE_MOBILE']\"):\n",
    "            if phone.text is None:\n",
    "                continue\n",
    "            else:\n",
    "                contacts.append(phone.text)\n",
    "    elif tag.get('Name') == 'AGGREGATED_CONTACTS':\n",
    "        for phone in root.findall(\"./MobileDevice /Item/Field/[@Type='FLD_AGGRCONT_NUMTYPE_MOBILE']\"):\n",
    "            if phone.text is None:\n",
    "                continue\n",
    "            else:\n",
    "                contacts.append(phone.text)\n",
    "    else:\n",
    "        return None\n",
    "\n",
    "    return contacts"
   ]
  },
  {
   "cell_type": "markdown",
   "metadata": {},
   "source": [
    "### Полученные данные необходимо было нормализовать к единому формату телефонных номеров, т.к. где-то они хранятся в написании с 8-ки, где-то с 7, где-то вообще цифры, не похожие на номера телефонов. Для преобразования была написана следующая функция:"
   ]
  },
  {
   "cell_type": "code",
   "execution_count": null,
   "metadata": {},
   "outputs": [],
   "source": [
    "def normalize_phones_list(phones_list):\n",
    "    \"\"\"\n",
    "   приводим № телефонов в единый формат (начинается с 7-ки вместо 8-ки)\n",
    "   остальные отбрасываются\n",
    "    \"\"\"\n",
    "    i = 0\n",
    "    phones = []\n",
    "    while i < len(phones_list):\n",
    "        phones_list[i] = phones_list[i].replace(u'\\xa0', u' ')\n",
    "        phones_list[i] = re.sub(r'[^0-9]', r'', phones_list[i])\n",
    "        if len(phones_list[i]) == 11:\n",
    "            if phones_list[i][0] == '8':\n",
    "                phones_list[i] = '7' + phones_list[i][1:]\n",
    "            phones.append(int(phones_list[i]))\n",
    "        i += 1\n",
    "    return phones"
   ]
  },
  {
   "cell_type": "markdown",
   "metadata": {},
   "source": [
    "### Все данные были экспортированы в XML формат с названиями в виде номера телефона владельца, для того чтобы получить эту вершину (источник связей) с его контактами был написан следующий код: "
   ]
  },
  {
   "cell_type": "code",
   "execution_count": null,
   "metadata": {},
   "outputs": [],
   "source": [
    "def get_owner_phone_from_filename(filename):\n",
    "    \"\"\"\n",
    "    получает № тел. (исп. для указания телефона-владельца) из имени файла TXT\\XML (имя файла должно содержать № тел)\n",
    "   \"\"\"\n",
    "    match = re.search(r'(\\d{11})\\.(xml|txt)', filename)\n",
    "    if match is not None:\n",
    "        owner_phone = match[1]\n",
    "    else:\n",
    "        owner_phone = None\n",
    "    return owner_phone"
   ]
  },
  {
   "cell_type": "markdown",
   "metadata": {},
   "source": [
    "### Для сбора списка контактов со всех файлов и преобразования к необходимому формату была написана следующая функция:"
   ]
  },
  {
   "cell_type": "code",
   "execution_count": null,
   "metadata": {},
   "outputs": [],
   "source": [
    "def xml_to_txt(pathname):\n",
    "    \"\"\"\n",
    "    конвертация всех XML файлов в папке pathname в TXT (каждый № тел. записывается в отдельную строку)\n",
    "   возвращается список полученных № тел. с группировкой по номерам-владельцам\n",
    "    \"\"\"\n",
    "    filenames = []\n",
    "    owners_dict = dict()\n",
    "    path = os.walk(pathname)\n",
    "    for (dirpath, dirnames, files) in path:\n",
    "        for filename in files:\n",
    "            match = re.search(r'(\\d{11})\\.xml', filename)\n",
    "            if match is not None:\n",
    "                filenames.append(match[0])\n",
    "        break\n",
    "\n",
    "    try:\n",
    "        for filename in filenames:\n",
    "            tree = etree.parse(pathname + '\\\\' + filename)\n",
    "            root = tree.getroot()\n",
    "\n",
    "            if root.tag == 'OFExport':\n",
    "                contacts_list = import_contacts(root)\n",
    "\n",
    "            contacts_list = normalize_phones_list(contacts_list)\n",
    "            with open(pathname + '\\\\' + get_owner_phone_from_filename(filename) + '.txt', 'w') as f:\n",
    "                for item in contacts_list:\n",
    "                    f.write(\"%s\\n\" % item)\n",
    "\n",
    "            owner_phone = int(get_owner_phone_from_filename(filename))\n",
    "            owners_dict[owner_phone] = contacts_list\n",
    "    except etree.ParseError as e:\n",
    "        print(\"Ошибка при обработке XML-файла:\", filename)\n",
    "        print(e)\n",
    "        print(\"Unexpected error:\", sys.exc_info()[0])\n",
    "\n",
    "    return owners_dict"
   ]
  },
  {
   "cell_type": "markdown",
   "metadata": {},
   "source": [
    "### Далее для формирования графа по вершинам-владельцам и их связям с контактами был написан следующий код:"
   ]
  },
  {
   "cell_type": "code",
   "execution_count": null,
   "metadata": {},
   "outputs": [],
   "source": [
    "def import_from_txt(pathname):\n",
    "    \"\"\"\n",
    "    загрузка № тел. из TXT файлов, расположенных в папке pathname и её подпапок\n",
    "    имена подпапок используются в качестве установленных сообществ\n",
    "    номер-владелец берется из имени файла\n",
    "    (каждый № тел. в файле должен быть в отдельной строке, имя файла из 11 цифр № тел)\n",
    "    возвращается список полученных № тел. с группировкой по номерам-владельцам\n",
    "   \"\"\"\n",
    "    case = 'without'\n",
    "    contacts_list = []\n",
    "    G = nx.Graph()\n",
    "    for dirName, subdirList, fileList in os.walk(pathname):\n",
    "        if dirName != pathname:\n",
    "            match = re.search(r'(TXTdata\\\\(\\w+))', dirName)\n",
    "            if match is not None:\n",
    "                case = match[2]\n",
    "\n",
    "        for filename in fileList:\n",
    "            try:\n",
    "                with open(dirName + '\\\\' + filename) as f:\n",
    "                    for line in f:\n",
    "                        contacts_list.append(line.rstrip('\\n'))\n",
    "\n",
    "                contacts_list = normalize_phones_list(contacts_list)\n",
    "                owner_phone = int(get_owner_phone_from_filename(filename))\n",
    "                G.add_node(owner_phone, case=case)\n",
    "                G.add_nodes_from(contacts_list, case=case)\n",
    "                for phone in contacts_list:\n",
    "                    G.add_edge(owner_phone, phone)\n",
    "                contacts_list = []\n",
    "            except etree.ParseError as e:\n",
    "                print(\"Ошибка при обработке TXT-файла:\", filename)\n",
    "                print(e)\n",
    "            except:\n",
    "                print(\"Unexpected error:\", sys.exc_info()[0])\n",
    "    return G"
   ]
  },
  {
   "cell_type": "markdown",
   "metadata": {},
   "source": [
    "### И наконец запускаем весь скрипт для обработки всех файлов и сохраняем результат в формат graphml:"
   ]
  },
  {
   "cell_type": "code",
   "execution_count": 11,
   "metadata": {},
   "outputs": [
    {
     "ename": "SystemExit",
     "evalue": "",
     "output_type": "error",
     "traceback": [
      "An exception has occurred, use %tb to see the full traceback.\n",
      "\u001b[0;31mSystemExit\u001b[0m\n"
     ]
    }
   ],
   "source": [
    "data = import_from_txt('TXTdata')\n",
    "nx.write_graphml(data, 'graph.graphml')\n",
    "sys.exit()"
   ]
  }
 ],
 "metadata": {
  "interpreter": {
   "hash": "aee8b7b246df8f9039afb4144a1f6fd8d2ca17a180786b69acc140d282b71a49"
  },
  "kernelspec": {
   "display_name": "Python 3.10.3 64-bit",
   "language": "python",
   "name": "python3"
  },
  "language_info": {
   "codemirror_mode": {
    "name": "ipython",
    "version": 3
   },
   "file_extension": ".py",
   "mimetype": "text/x-python",
   "name": "python",
   "nbconvert_exporter": "python",
   "pygments_lexer": "ipython3",
   "version": "3.10.3"
  },
  "orig_nbformat": 4
 },
 "nbformat": 4,
 "nbformat_minor": 2
}
