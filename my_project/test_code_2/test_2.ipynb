{
 "cells": [
  {
   "cell_type": "markdown",
   "metadata": {},
   "source": [
    "### Что такое генератор?\n",
    "\n",
    "Генератор Python создает последовательность значений для итерации, часто с помощью функции. Мы определяем функцию с помощью yield , которая используется для получения значения по одному, а затем используем цикл for для итерации."
   ]
  },
  {
   "cell_type": "code",
   "execution_count": null,
   "metadata": {},
   "outputs": [],
   "source": [
    "def squares(n):\n",
    "    i=1\n",
    "    while(i<=n):\n",
    "        yield i**2\n",
    "        i+=1\n",
    "for i in squares(7):\n",
    "    print(i)"
   ]
  },
  {
   "cell_type": "markdown",
   "metadata": {},
   "source": [
    "### Напишите программу на Python, чтобы создать треугольник из звезд"
   ]
  },
  {
   "cell_type": "code",
   "execution_count": null,
   "metadata": {},
   "outputs": [],
   "source": [
    "def star_triangle(r):\n",
    "   for x in range(r):\n",
    "      print(' '*(r-x-1)+'*'*(2*x+1))\n",
    "\n",
    "star_triangle(8)"
   ]
  },
  {
   "cell_type": "markdown",
   "metadata": {},
   "source": [
    "### Напишите программу на Python, чтобы проверить, является ли последовательность, которую вы вводите, палиндромом"
   ]
  },
  {
   "cell_type": "code",
   "execution_count": null,
   "metadata": {},
   "outputs": [],
   "source": [
    "a=input(\"enter the sequence: \")\n",
    "b=a[::-1]\n",
    "\n",
    "if a==b:\n",
    "   print(\"palindrome\")\n",
    "else:\n",
    "   print(\"Not a Palindrome\")"
   ]
  },
  {
   "cell_type": "markdown",
   "metadata": {},
   "source": [
    "### Напишите программу на Python для проверки, является ли число простым"
   ]
  },
  {
   "cell_type": "code",
   "execution_count": null,
   "metadata": {},
   "outputs": [],
   "source": [
    "a=int(input(\"enter a number\"))     \n",
    "if a>1:\n",
    "    for x in range(2,a):\n",
    "        if(a%x)==0:\n",
    "            print(\"not prime\")\n",
    "            break\n",
    "    else:\n",
    "        print(\"Prime\")\n",
    "else:\n",
    "    print(\"not prime\")"
   ]
  },
  {
   "cell_type": "markdown",
   "metadata": {},
   "source": [
    "### Что такое функция map в Python?\n",
    "\n",
    "map() — это функция, которая принимает другую в качестве аргумента, а затем применяет её ко всем элементам итератора, передаваемым ей в качестве другого аргумента. Функция вернет объект map, поэтому нам нужно преобразовать его в объект списка."
   ]
  },
  {
   "cell_type": "code",
   "execution_count": null,
   "metadata": {},
   "outputs": [],
   "source": [
    "def number_exponential(num):\n",
    "   return num**2\n",
    "\n",
    "number_list = [2,3,4,5]\n",
    "\n",
    "print(list(map(number_exponential, number_list)))"
   ]
  },
  {
   "cell_type": "markdown",
   "metadata": {},
   "source": [
    "### Что такое функция enumerate в Python?\n",
    "\n",
    "Метод enumerate() добавляет счетчик к итерируемому и возвращает его в виде объекта перечисления (enumerate). Объект будет состоять из счетчика и итерационных значений."
   ]
  },
  {
   "cell_type": "code",
   "execution_count": null,
   "metadata": {},
   "outputs": [],
   "source": [
    "iter_example = ['test', 'test2', 'test3']\n",
    "for idx, val in enumerate(iter_example):\n",
    "   print(idx)\n",
    "   print(val)"
   ]
  },
  {
   "cell_type": "markdown",
   "metadata": {},
   "source": [
    "### Что такое абстракции у словаря и списка в Python?\n",
    "\n",
    "Они представляют собой синтаксические конструкции, облегчающие создание словаря или списка на основе существующих итеруемых. Создание происходит циклом внутри самого объекта."
   ]
  },
  {
   "cell_type": "code",
   "execution_count": null,
   "metadata": {},
   "outputs": [],
   "source": [
    "# Абстракция словаря\n",
    "dict_comprehension = {key:val for key, val in enumerate('sample')}\n",
    "print(dict_comprehension)\n",
    "\n",
    "# Абстракция списка\n",
    "list_comprehension = [i for i in range(5)]\n",
    "print(list_comprehension)"
   ]
  },
  {
   "cell_type": "markdown",
   "metadata": {},
   "source": [
    "### Что такое slicing в Python?\n",
    "\n",
    "Slicing (отсечение) — это механизм выбора диапазона элементов из таких типов последовательностей, как список, кортеж, строки и т.д. Такое отсечение выполняется методом индексации."
   ]
  },
  {
   "cell_type": "code",
   "execution_count": null,
   "metadata": {},
   "outputs": [],
   "source": [
    "#Пример отсечения\n",
    "list_example = [1,2,3,4,'test','test2']\n",
    "print(list_example[1:5])"
   ]
  },
  {
   "cell_type": "markdown",
   "metadata": {},
   "source": [
    "### Что такое поверхностная копия?\n",
    "\n",
    "Поверхностная копия используется при создании нового типа экземпляра и сохраняет значения, скопированные в новом. Также она используется для копирования ссылочных указателей. Это означает, что когда мы копируем объект в другую переменную, он будет привязан."
   ]
  },
  {
   "cell_type": "code",
   "execution_count": null,
   "metadata": {},
   "outputs": [],
   "source": [
    "#Пример поверхностной копии\n",
    "list_example = [1,2,3,4,5]\n",
    "another_list = list_example\n",
    "another_list[0] = 100\n",
    "print(list_example)"
   ]
  },
  {
   "cell_type": "markdown",
   "metadata": {},
   "source": [
    "### Что такое глубокая копия?\n",
    "\n",
    "Глубокая копия используется для хранения значений, которые уже скопированы. Глубокая копия не копирует ссылочные указатели на объекты. Она создает ссылку на объект, и новый объект, на который указывает другой, сохраняется. В отличие от неглубокой копии, изменения, внесенные в исходную копию, не повлияют ни на одну другую копию, использующую объект. Это значит, что они не привязаны."
   ]
  },
  {
   "cell_type": "code",
   "execution_count": null,
   "metadata": {},
   "outputs": [],
   "source": [
    "#Пример глубокой копии\n",
    "list_example = [1,2,3,4,5]\n",
    "\n",
    "#Создание глубокой копии с помощью атрибута .copy\n",
    "another_list = list_example.copy()\n",
    "another_list[0] = 100\n",
    "print(list_example)\n",
    "print(another_list)"
   ]
  },
  {
   "cell_type": "markdown",
   "metadata": {},
   "source": [
    "### Как преобразовать список в строку?\n",
    "\n",
    "В этом случае мы могли бы использовать атрибут .join() из строкового объекта. Здесь мы передали объект списка в атрибут:"
   ]
  },
  {
   "cell_type": "code",
   "execution_count": null,
   "metadata": {},
   "outputs": [],
   "source": [
    "list_example = ['apple', 'grape', 'orange']\n",
    "print(' '.join(list_example))"
   ]
  },
  {
   "cell_type": "markdown",
   "metadata": {},
   "source": [
    "### Что делает функция zip()?\n",
    "\n",
    "Она вернет итератор кортежей, сформирует n-пару значений из перечисляемых, передаваемых функции. n — это число итерируемых, которые передают функции."
   ]
  },
  {
   "cell_type": "code",
   "execution_count": null,
   "metadata": {},
   "outputs": [],
   "source": [
    "#Пример функции Zip\n",
    "print(list(zip([1,2,3], ['apple', 'grape', 'orange'], ['x', 2, True])))\n",
    "\n",
    "for num, fruit, thing in zip([1,2,3], ['apple', 'grape', 'orange'], ['x', 2, True]):\n",
    "    print(num)\n",
    "    print(fruit)\n",
    "    print(thing)"
   ]
  },
  {
   "cell_type": "markdown",
   "metadata": {},
   "source": [
    "### Как вычислять процентили с помощью NumPy?\n",
    "\n",
    "Медиана — это 50 процентиль по определению. 25 процентиль указывает, что 25% наблюдаемых меньше числа в процентиле, то есть n процентов наблюдаемых значений меньше значения в процентиле n.\n",
    "\n",
    "Мы можем вычислить его с помощью NumPy, используя следующий код:"
   ]
  },
  {
   "cell_type": "code",
   "execution_count": null,
   "metadata": {},
   "outputs": [],
   "source": [
    "import numpy as np\n",
    "\n",
    "a = np.array([i for i in range(100)])\n",
    "p = np.percentile(a, 50) #Возвращает 50-ый перцентиль - медиану\n",
    "\n",
    "print(p)"
   ]
  },
  {
   "cell_type": "code",
   "execution_count": null,
   "metadata": {},
   "outputs": [],
   "source": [
    "a = [1,2,3]\n",
    "b = a\n",
    "c = [1,2,3]\n",
    "print(a == b, a == c, a is b, a is c)"
   ]
  },
  {
   "cell_type": "code",
   "execution_count": null,
   "metadata": {},
   "outputs": [],
   "source": [
    "one = [1, \"2\", 3, \"4\"]\n",
    "two = (\"a\", \"b\", \"c\", \"d\")\n",
    "#one.append(5)\n",
    "#two.append(\"f\") #error\n",
    "#one.extend(two)\n",
    "#two.extend(one) #error\n",
    "#three = two + (\"f\", 'g')\n",
    "#three = one + two #error\n",
    "print(one)\n",
    "print(two)\n",
    "#print(three)"
   ]
  },
  {
   "cell_type": "code",
   "execution_count": null,
   "metadata": {},
   "outputs": [],
   "source": [
    "my_lst = [1, \"2\", 3, \"4\"]\n",
    "#my_lst.sort()\n",
    "#my_lst = my_lst[::-1] #ok\n",
    "#my_lst.inverse()\n",
    "#my_lst.reverse() #ok\n",
    "#my_lst = my_lst[:, :, -1]\n",
    "my_lst = my_lst[:-1]\n",
    "print(my_lst)"
   ]
  },
  {
   "cell_type": "code",
   "execution_count": null,
   "metadata": {},
   "outputs": [],
   "source": [
    "my_dict = {'f':'1', 'b':'5', 'z':12}\n",
    "#my_dict.sort() #error\n",
    "#sorted(my_dict) #error\n",
    "#my_dict = sorted(my_dict.keys()) #error\n",
    "#for key, value in my_dict:\n",
    "for key, value in my_dict.items(): #ok\n",
    "#for key, value in my_dict.values():\n",
    "#for key, value in my_dict.keys().values():\n",
    "    print(key, value)"
   ]
  },
  {
   "cell_type": "code",
   "execution_count": null,
   "metadata": {},
   "outputs": [],
   "source": [
    "config = {\n",
    "    \"server\": {\n",
    "        \"host\": \"127.0.0.1\",\n",
    "        \"port\": \"22\"\n",
    "    },\n",
    "    \"configuration\": {\n",
    "        \"ssh\": {\n",
    "            \"access\": True,\n",
    "            \"login\": \"some\",\n",
    "            \"password\": \"some\"\n",
    "        },\n",
    "        \"name\": \"2491Oaaf1414\"\n",
    "    }\n",
    "}\n",
    "config['configuration']['ssh']['login'] #ok\n",
    "#config['ssh']['login']\n",
    "#config['login']\n",
    "#config.get('login', 0)"
   ]
  },
  {
   "cell_type": "code",
   "execution_count": null,
   "metadata": {},
   "outputs": [],
   "source": [
    "s='1abd12'\n",
    "x = s.isnumeric()\n",
    "print(x)"
   ]
  },
  {
   "cell_type": "code",
   "execution_count": null,
   "metadata": {},
   "outputs": [],
   "source": [
    "x = range(10, 181, 5)\n",
    "print(x)"
   ]
  },
  {
   "cell_type": "code",
   "execution_count": null,
   "metadata": {},
   "outputs": [],
   "source": [
    "\n",
    "a = np.array([6, 3, -5])\n",
    "b = np.array([-1, 0, 7])"
   ]
  },
  {
   "cell_type": "code",
   "execution_count": 156,
   "metadata": {},
   "outputs": [
    {
     "name": "stdout",
     "output_type": "stream",
     "text": [
      "[17 14 10  4]\n"
     ]
    }
   ],
   "source": [
    "print(np.random.randint(1, 20, 4))"
   ]
  }
 ],
 "metadata": {
  "kernelspec": {
   "display_name": "Python 3.10.3 64-bit",
   "language": "python",
   "name": "python3"
  },
  "language_info": {
   "codemirror_mode": {
    "name": "ipython",
    "version": 3
   },
   "file_extension": ".py",
   "mimetype": "text/x-python",
   "name": "python",
   "nbconvert_exporter": "python",
   "pygments_lexer": "ipython3",
   "version": "3.10.3"
  },
  "orig_nbformat": 4,
  "vscode": {
   "interpreter": {
    "hash": "aee8b7b246df8f9039afb4144a1f6fd8d2ca17a180786b69acc140d282b71a49"
   }
  }
 },
 "nbformat": 4,
 "nbformat_minor": 2
}
