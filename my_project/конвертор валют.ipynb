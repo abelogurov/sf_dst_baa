{
 "cells": [
  {
   "cell_type": "code",
   "execution_count": 1,
   "metadata": {},
   "outputs": [
    {
     "name": "stdout",
     "output_type": "stream",
     "text": [
      "184000 RUB = 3052.67 USD\n"
     ]
    }
   ],
   "source": [
    "import requests\n",
    "\n",
    "class Currency_convertor:\n",
    "\n",
    "    # Храним коэф. конверсии\n",
    "    rates = {}\n",
    "    def __init__(self, url):\n",
    "        data = requests.get(url).json()\n",
    "        self.rates = data[\"rates\"]\n",
    "\n",
    "    \n",
    "    # Умножение между суммой и коэф. конверсии\n",
    "    def convert(self, from_currency, to_currency, amount):\n",
    "        initial_amount = amount\n",
    "        if from_currency != 'EUR' :\n",
    "            amount = amount / self.rates[from_currency]\n",
    "\n",
    "\n",
    "    # Ставим ограничение в 2 знака после запятой\n",
    "        amount = round(amount * self.rates[to_currency], 2)\n",
    "        print(f'{initial_amount} {from_currency} = {amount} {to_currency}')\n",
    "\n",
    " \n",
    "\n",
    "if __name__ == \"__main__\":\n",
    "    # YOUR_ACCESS_KEY нужно получить на fixer.io\n",
    "    url = str.__add__('https://api.apilayer.com/fixer/latest?apikey=', 'RuWsrUZjPM7zGedT8HlVb7qnq02RYPZx')\n",
    "    c = Currency_convertor(url)\n",
    "    from_country = input(\"From Country: \")\n",
    "    to_country = input(\"TO Country: \")\n",
    "    amount = int(input(\"Amount: \"))\n",
    "\n",
    "    c.convert(from_country, to_country, amount)"
   ]
  }
 ],
 "metadata": {
  "interpreter": {
   "hash": "aee8b7b246df8f9039afb4144a1f6fd8d2ca17a180786b69acc140d282b71a49"
  },
  "kernelspec": {
   "display_name": "Python 3.10.3 64-bit",
   "language": "python",
   "name": "python3"
  },
  "language_info": {
   "codemirror_mode": {
    "name": "ipython",
    "version": 3
   },
   "file_extension": ".py",
   "mimetype": "text/x-python",
   "name": "python",
   "nbconvert_exporter": "python",
   "pygments_lexer": "ipython3",
   "version": "3.10.3"
  },
  "orig_nbformat": 4
 },
 "nbformat": 4,
 "nbformat_minor": 2
}
