{
 "cells": [
  {
   "cell_type": "code",
   "execution_count": 26,
   "metadata": {},
   "outputs": [
    {
     "name": "stdout",
     "output_type": "stream",
     "text": [
      "   September 2022\n",
      "Mo Tu We Th Fr Sa Su\n",
      "          1  2  3  4\n",
      " 5  6  7  8  9 10 11\n",
      "12 13 14 15 16 17 18\n",
      "19 20 21 22 23 24 25\n",
      "26 27 28 29 30\n",
      "\n"
     ]
    }
   ],
   "source": [
    "import calendar\n",
    "\n",
    "yy = int(input('Year: '))\n",
    "mm = int(input('Month: '))\n",
    "\n",
    "print(calendar.month(yy, mm))"
   ]
  },
  {
   "cell_type": "code",
   "execution_count": 10,
   "metadata": {},
   "outputs": [
    {
     "name": "stdout",
     "output_type": "stream",
     "text": [
      "2022 года, 9 месяца, 5 число - понедельник\n"
     ]
    }
   ],
   "source": [
    "import calendar\n",
    "from datetime import date\n",
    "\n",
    "yy = int(input('Year: '))\n",
    "mm = int(input('Month: '))\n",
    "dd = int(input('Day: '))\n",
    "\n",
    "if calendar.weekday(yy,mm,dd) == 0:\n",
    "    print(f'{yy} года, {mm} месяца, {dd} число - понедельник')\n",
    "elif calendar.weekday(yy,mm,dd) == 1:\n",
    "    print(f'{yy} года, {mm} месяца, {dd} число - вторник')\n",
    "elif calendar.weekday(yy,mm,dd) == 2:\n",
    "    print(f'{yy} года, {mm} месяца, {dd} число - среда')\n",
    "elif calendar.weekday(yy,mm,dd) == 3:\n",
    "    print(f'{yy} года, {mm} месяца, {dd} число - четверг')\n",
    "elif calendar.weekday(yy,mm,dd) == 4:\n",
    "    print(f'{yy} года, {mm} месяца, {dd} число - пятница')\n",
    "elif calendar.weekday(yy,mm,dd) == 5:\n",
    "    print(f'{yy} года, {mm} месяца, {dd} число - суббота')\n",
    "else:\n",
    "    print(f'{yy} года, {mm} месяца, {dd} число - воскресенье')\n",
    "    "
   ]
  }
 ],
 "metadata": {
  "kernelspec": {
   "display_name": "Python 3.10.3 64-bit",
   "language": "python",
   "name": "python3"
  },
  "language_info": {
   "codemirror_mode": {
    "name": "ipython",
    "version": 3
   },
   "file_extension": ".py",
   "mimetype": "text/x-python",
   "name": "python",
   "nbconvert_exporter": "python",
   "pygments_lexer": "ipython3",
   "version": "3.10.3"
  },
  "orig_nbformat": 4,
  "vscode": {
   "interpreter": {
    "hash": "aee8b7b246df8f9039afb4144a1f6fd8d2ca17a180786b69acc140d282b71a49"
   }
  }
 },
 "nbformat": 4,
 "nbformat_minor": 2
}
