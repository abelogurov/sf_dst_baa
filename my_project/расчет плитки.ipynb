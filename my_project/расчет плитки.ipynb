{
 "cells": [
  {
   "cell_type": "code",
   "execution_count": null,
   "metadata": {},
   "outputs": [],
   "source": [
    "# Площадь ванной (стены).\n",
    "bathroom_wall_long = 3.25\n",
    "bathroom_wall_high = 1\n",
    "bathroom_wall_area = bathroom_wall_long*bathroom_wall_high\n",
    "print(f'Площадь стены ванной: {bathroom_wall_area} м2')\n",
    "\n",
    "# Площадь туалета (стены).\n",
    "wc_wall_long = 0.6\n",
    "wc_wall_high = 1.2\n",
    "wc_wall_area = wc_wall_long*wc_wall_high\n",
    "print(f'Площадь стены туалета: {wc_wall_area} м2')\n",
    "\n",
    "# Площадь пола в ванной.\n",
    "bathroom_floor_long = float(input('Введите ширину пола в метрах- '))\n",
    "bathroom_floor_high = float(input('Введите длину пола в метрах - '))\n",
    "bathroom_floor_area = bathroom_floor_long*bathroom_floor_high\n",
    "print(f'Площадь пола ванной: {bathroom_floor_long} x {bathroom_floor_high} = {bathroom_floor_area} м2')\n",
    "\n",
    "# Расчет площади настенной плитки (без декора).\n",
    "plitka_wall_long = float(input('Введите ширину настенной плитки в метрах - '))\n",
    "plitka_wall_high = float(input('Введите высоту настенной плитки в метрах - '))\n",
    "plitka_wall_area = plitka_wall_long*plitka_wall_high\n",
    "print(f'Площадь настенной плитки: {plitka_wall_long} x {plitka_wall_high} = {round(plitka_wall_area, 2)} м2')\n",
    "\n",
    "# Расчет площади напольной плитки.\n",
    "plitka_floor_long = float(input('Введите ширину напольной плитки в метрах - '))\n",
    "plitka_floor_high = float(input('Введите ширину напольной плитки в метрах - '))\n",
    "plitka_floor_area = plitka_floor_long*plitka_floor_high\n",
    "print(f'Площадь напольной плитки: {plitka_floor_long} x {plitka_floor_high} = {round(plitka_floor_area, 2)} м2')\n",
    "\n",
    "# Расчет количества настенной плитки (шт.).\n",
    "total_wall_area = bathroom_wall_area+wc_wall_area# Общая площать стен\n",
    "count_wall = total_wall_area/plitka_wall_area# Расчет количества плитки (общая пдощадь стен разделить на площадь одной плитки).\n",
    "cofficient_plitka_wall = count_wall * 0.2# Коэффициент \n",
    "print(f'Количество настенной плитки {round(count_wall+cofficient_plitka_wall, 0)} шт.')\n",
    "\n",
    "# Расчет количества напольной плитки (шт.).\n",
    "count_floor = bathroom_floor_area/plitka_floor_area\n",
    "cofficient_plitka_floor = count_wall * 0.2# Коэффициент \n",
    "print(f'Количество напольной плитки {round(count_floor+cofficient_plitka_floor, 0)} шт.')\n",
    "\n",
    "# Расчет количества плитки в м2.\n",
    "count_wall_m2 = round(count_wall+cofficient_plitka_wall*plitka_wall_area, 0) \n",
    "count_floor_m2 = round(count_floor+cofficient_plitka_floor*plitka_floor_area, 0)\n",
    "print(f'Общая площадь настенной плитки: {count_wall_m2} м2')\n",
    "print(f'Общая площадь напольной плитки: {count_floor_m2} м2')\n",
    "\n"
   ]
  }
 ],
 "metadata": {
  "language_info": {
   "name": "python"
  },
  "orig_nbformat": 4
 },
 "nbformat": 4,
 "nbformat_minor": 2
}
