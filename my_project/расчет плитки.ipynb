{
 "cells": [
  {
   "cell_type": "code",
   "execution_count": 24,
   "metadata": {},
   "outputs": [
    {
     "name": "stdout",
     "output_type": "stream",
     "text": [
      "Общая площадь стен: 4 м2.\n",
      "Общая площадь пола: 0.81 м2.\n",
      "Площадь настенной плитки: 0.1 м2.\n",
      "Площадь напольной плитки: 0.18 м2.\n",
      "\n",
      "Количество настенной плитки: 41.0 шт.\n",
      "Количество напольной плитки: 5 шт.\n"
     ]
    }
   ],
   "source": [
    "floor_long=float(input('Введите длинну пола в метрах -'))\n",
    "floor_high=float(input('Введите ширину пола в метрах -'))\n",
    "tile_floor_long=float(input('Введите ширину напольной плитки в метрах -'))\n",
    "tile_floor_high=float(input('Введите длинну напольной плитки в метрах -'))\n",
    "tile_wall_long=float(input('Введите ширину насетнной плитки в метрах -'))\n",
    "tile_wall_high=float(input('Введите длинну настенной плитки в метрах -'))\n",
    "tile_wall_side_high =float(input('Введите высоту бортика в метрах -'))  \n",
    "tile_cofficient=float(input('Введите коэфициент расхода плитки -'))\n",
    "wall_area=4\n",
    "  \n",
    "floor_area = round(floor_long*floor_high,2)# Общая площадь пола.\n",
    "tile_wall_area = round(tile_wall_long*tile_wall_high,2)# Общая площадь одной настенной плитки.\n",
    "tile_side_area = round(tile_floor_long*tile_wall_side_high*4,2)# Общая площадь бортиков.\n",
    "tile_floor_area = round(tile_floor_long*tile_floor_high,2)# Общая площадь одной напольной плитки.\n",
    "tile_wall_count = round((wall_area/tile_wall_area)+(wall_area*tile_cofficient),0)# Расчет количества настенной плитки (общая площадь стен разделить на площадь одной плитки).\n",
    "tile_floor_count = round((floor_area/tile_floor_area)+(floor_area*tile_cofficient),0)# Расчет количества напольной плитки (общая площадь пола разделиь на площадь одной плитки).\n",
    "tile_side_count = round((tile_side_area/tile_floor_area)+(tile_side_area*tile_cofficient),0)# Расчет количества напольной плитки бортика (общая площадь бортика разделить на площадь одной плитки).\n",
    "  \n",
    "print(f'Общая площадь стен: {wall_area} м2.')\n",
    "print(f'Общая площадь пола: {floor_area} м2.')\n",
    "print(f'Площадь настенной плитки: {tile_wall_area} м2.')\n",
    "print(f'Площадь напольной плитки: {tile_floor_area} м2.')\n",
    "print('')\n",
    "print(f'Количество настенной плитки: {int(tile_wall_count)} шт.')\n",
    "print(f'Количество напольной плитки: {int(tile_floor_count+tile_side_area)} шт.')"
   ]
  }
 ],
 "metadata": {
  "kernelspec": {
   "display_name": "Python 3.10.3 64-bit",
   "language": "python",
   "name": "python3"
  },
  "language_info": {
   "codemirror_mode": {
    "name": "ipython",
    "version": 3
   },
   "file_extension": ".py",
   "mimetype": "text/x-python",
   "name": "python",
   "nbconvert_exporter": "python",
   "pygments_lexer": "ipython3",
   "version": "3.10.3"
  },
  "orig_nbformat": 4,
  "vscode": {
   "interpreter": {
    "hash": "aee8b7b246df8f9039afb4144a1f6fd8d2ca17a180786b69acc140d282b71a49"
   }
  }
 },
 "nbformat": 4,
 "nbformat_minor": 2
}
