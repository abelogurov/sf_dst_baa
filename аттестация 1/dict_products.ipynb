{
 "cells": [
  {
   "cell_type": "code",
   "execution_count": 25,
   "metadata": {},
   "outputs": [
    {
     "name": "stdout",
     "output_type": "stream",
     "text": [
      "36.0\n",
      "21.6\n",
      "72.0\n",
      "None\n"
     ]
    }
   ],
   "source": [
    "def apply_discounts(products, stocks):\n",
    "    \"\"\"\n",
    "    Напишите функцию apply_discounts(), которая снижает цену продуктов в словаре products на указанный в словаре stocks процент. \n",
    "    Функция должна вернуть результирующий словарь, ключи которого — товары, а значения — новые цены.\n",
    "    Если продукта из словаря stocks нет в словаре products, то его необходимо пропустить. Цены округлите до второго знака после запятой.\n",
    "    \"\"\"\n",
    "    new_products={}\n",
    "    stock=[]\n",
    "    product=[]\n",
    "    \n",
    "    # Создаем список из ключей словаря stocks для сравнения с ключами словаря products.\n",
    "    for i in stocks:\n",
    "        stock.append(i)\n",
    "        \n",
    "    # Создаем список из ключей словаря products для расчета цены товара со скидкой из словаря stocs.    \n",
    "    for j in products:\n",
    "        product.append(j)\n",
    "\n",
    "    # Определим длину списка stock для организации цикла.   \n",
    "    n=len(stock)\n",
    "    \n",
    "    # Создадим цикл по индексам списка stock для выборки только тех цен, которые соответсвуют списку значений stock.\n",
    "    for y in range(n):\n",
    "        new_price = ((round(products[stock[y]]*int(stocks[i][:2])/100, 2)))\n",
    "        print(new_price)\n",
    "   \n",
    "    \n",
    "        \n",
    "    # Создаем новый словарь с продуктами и ценами со скидкой.\n",
    "   \n",
    "   \n",
    "   \n",
    "    \n",
    "\n",
    "if __name__ == '__main__':\n",
    "    products={\n",
    "        \"Oranges (packaged)\": 114.99, \n",
    "        \"Candy (Rotfront)\": 280.00,\n",
    "        \"Boiled sausage\": 199.99,\n",
    "        \"Juice J7 (orange)\": 119.99,\n",
    "        \"Trout (Seven Seas)\": 399.99\n",
    "        }\n",
    "    stocks = {\n",
    "        \"Boiled sausage\": \"33%\",\n",
    "        \"Juice J7 (orange)\": \"12%\",\n",
    "        \"Trout (Seven Seas)\": \"18%\"\n",
    "    }\n",
    "    new_products = apply_discounts(products, stocks)\n",
    "    print(new_products)"
   ]
  }
 ],
 "metadata": {
  "kernelspec": {
   "display_name": "Python 3.10.3 64-bit",
   "language": "python",
   "name": "python3"
  },
  "language_info": {
   "codemirror_mode": {
    "name": "ipython",
    "version": 3
   },
   "file_extension": ".py",
   "mimetype": "text/x-python",
   "name": "python",
   "nbconvert_exporter": "python",
   "pygments_lexer": "ipython3",
   "version": "3.10.3"
  },
  "orig_nbformat": 4,
  "vscode": {
   "interpreter": {
    "hash": "aee8b7b246df8f9039afb4144a1f6fd8d2ca17a180786b69acc140d282b71a49"
   }
  }
 },
 "nbformat": 4,
 "nbformat_minor": 2
}
