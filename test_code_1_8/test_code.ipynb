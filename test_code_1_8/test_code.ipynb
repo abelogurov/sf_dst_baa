{
 "cells": [
  {
   "cell_type": "code",
   "execution_count": 1,
   "metadata": {},
   "outputs": [
    {
     "name": "stdout",
     "output_type": "stream",
     "text": [
      "Число 12 меньше загаданного, введенные числа [12]\n",
      "Число 40 меньше загаданного, введенные числа [12, 40]\n",
      "Число 45 меньше загаданного, введенные числа [12, 40, 45]\n",
      "Число 60 больше загаданного, введенные числа [12, 40, 45, 60]\n",
      "Число 23 меньше загаданного, введенные числа [12, 40, 45, 60, 23]\n",
      "Число 50 больше загаданного, введенные числа [12, 40, 45, 60, 23, 50]\n",
      "Число 23 меньше загаданного, введенные числа [12, 40, 45, 60, 23, 50, 23]\n",
      "Число 47 меньше загаданного, введенные числа [12, 40, 45, 60, 23, 50, 23, 47]\n",
      "Поздравляю!!! Загаданное число 49, вы отгадали за 9 попыток(ки)\n"
     ]
    }
   ],
   "source": [
    "from test_code import num_random\n",
    "from test_code import number_search"
   ]
  }
 ],
 "metadata": {
  "interpreter": {
   "hash": "aee8b7b246df8f9039afb4144a1f6fd8d2ca17a180786b69acc140d282b71a49"
  },
  "kernelspec": {
   "display_name": "Python 3.10.3 64-bit",
   "language": "python",
   "name": "python3"
  },
  "language_info": {
   "codemirror_mode": {
    "name": "ipython",
    "version": 3
   },
   "file_extension": ".py",
   "mimetype": "text/x-python",
   "name": "python",
   "nbconvert_exporter": "python",
   "pygments_lexer": "ipython3",
   "version": "3.10.3"
  },
  "orig_nbformat": 4
 },
 "nbformat": 4,
 "nbformat_minor": 2
}
